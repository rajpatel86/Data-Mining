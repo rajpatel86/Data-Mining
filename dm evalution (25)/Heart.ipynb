{
 "cells": [
  {
   "cell_type": "markdown",
   "id": "06afd972-bdb5-4113-ab32-1fbd024eeeac",
   "metadata": {},
   "source": [
    "<a href='https://www.darshan.ac.in/'> <img src='https://www.darshan.ac.in/Content/media/DU_Logo.svg' width=\"250\" height=\"300\"/></a>\n",
    "<pre>\n",
    "<center><b><h1>Data Mining</b></center>\n",
    "<center><b><h1>23010101163</b></center>\n",
    "<center><b><h1>heart</b></center>    \n",
    "<pre>"
   ]
  },
  {
   "cell_type": "markdown",
   "id": "ce340bba-96d3-4a15-a83c-0d9991020968",
   "metadata": {},
   "source": [
    "# Step-1 Import the pandas Libraries"
   ]
  },
  {
   "cell_type": "code",
   "execution_count": 3,
   "id": "5c91b18c-962a-41c2-8252-3c69377cce87",
   "metadata": {},
   "outputs": [],
   "source": [
    "# df = data frame"
   ]
  },
  {
   "cell_type": "code",
   "execution_count": 5,
   "id": "120f0389-cd98-4cc9-b6fc-c71e18b471ea",
   "metadata": {},
   "outputs": [],
   "source": [
    "import pandas as pd"
   ]
  },
  {
   "cell_type": "markdown",
   "id": "3b86a826-cab8-4606-b2d5-249a9b9a741e",
   "metadata": {},
   "source": [
    "# Step-2 Read csv or excel File\n"
   ]
  },
  {
   "cell_type": "code",
   "execution_count": 21,
   "id": "b1a39003-6215-49e7-9f1b-f900f6f5150c",
   "metadata": {},
   "outputs": [],
   "source": [
    "df = pd.read_csv('heart.csv', encoding='ISO-8859-1')"
   ]
  },
  {
   "cell_type": "markdown",
   "id": "ab52d9e5-7ddb-43b6-ac44-e7ece43eb8a5",
   "metadata": {},
   "source": [
    "# Step-3 Print Data from csv or excel File"
   ]
  },
  {
   "cell_type": "code",
   "execution_count": 26,
   "id": "fe9e9558-5f74-4281-a224-22717c21fed6",
   "metadata": {},
   "outputs": [
    {
     "data": {
      "text/html": [
       "<div>\n",
       "<style scoped>\n",
       "    .dataframe tbody tr th:only-of-type {\n",
       "        vertical-align: middle;\n",
       "    }\n",
       "\n",
       "    .dataframe tbody tr th {\n",
       "        vertical-align: top;\n",
       "    }\n",
       "\n",
       "    .dataframe thead th {\n",
       "        text-align: right;\n",
       "    }\n",
       "</style>\n",
       "<table border=\"1\" class=\"dataframe\">\n",
       "  <thead>\n",
       "    <tr style=\"text-align: right;\">\n",
       "      <th></th>\n",
       "      <th>age</th>\n",
       "      <th>sex</th>\n",
       "      <th>cp</th>\n",
       "      <th>trestbps</th>\n",
       "      <th>chol</th>\n",
       "      <th>fbs</th>\n",
       "      <th>restecg</th>\n",
       "      <th>thalach</th>\n",
       "      <th>exang</th>\n",
       "      <th>oldpeak</th>\n",
       "      <th>slope</th>\n",
       "      <th>ca</th>\n",
       "      <th>thal</th>\n",
       "      <th>target</th>\n",
       "    </tr>\n",
       "  </thead>\n",
       "  <tbody>\n",
       "    <tr>\n",
       "      <th>0</th>\n",
       "      <td>52</td>\n",
       "      <td>1</td>\n",
       "      <td>0</td>\n",
       "      <td>125</td>\n",
       "      <td>212</td>\n",
       "      <td>0</td>\n",
       "      <td>1</td>\n",
       "      <td>168</td>\n",
       "      <td>0</td>\n",
       "      <td>1.0</td>\n",
       "      <td>2</td>\n",
       "      <td>2</td>\n",
       "      <td>3</td>\n",
       "      <td>0</td>\n",
       "    </tr>\n",
       "    <tr>\n",
       "      <th>1</th>\n",
       "      <td>53</td>\n",
       "      <td>1</td>\n",
       "      <td>0</td>\n",
       "      <td>140</td>\n",
       "      <td>203</td>\n",
       "      <td>1</td>\n",
       "      <td>0</td>\n",
       "      <td>155</td>\n",
       "      <td>1</td>\n",
       "      <td>3.1</td>\n",
       "      <td>0</td>\n",
       "      <td>0</td>\n",
       "      <td>3</td>\n",
       "      <td>0</td>\n",
       "    </tr>\n",
       "    <tr>\n",
       "      <th>2</th>\n",
       "      <td>70</td>\n",
       "      <td>1</td>\n",
       "      <td>0</td>\n",
       "      <td>145</td>\n",
       "      <td>174</td>\n",
       "      <td>0</td>\n",
       "      <td>1</td>\n",
       "      <td>125</td>\n",
       "      <td>1</td>\n",
       "      <td>2.6</td>\n",
       "      <td>0</td>\n",
       "      <td>0</td>\n",
       "      <td>3</td>\n",
       "      <td>0</td>\n",
       "    </tr>\n",
       "    <tr>\n",
       "      <th>3</th>\n",
       "      <td>61</td>\n",
       "      <td>1</td>\n",
       "      <td>0</td>\n",
       "      <td>148</td>\n",
       "      <td>203</td>\n",
       "      <td>0</td>\n",
       "      <td>1</td>\n",
       "      <td>161</td>\n",
       "      <td>0</td>\n",
       "      <td>0.0</td>\n",
       "      <td>2</td>\n",
       "      <td>1</td>\n",
       "      <td>3</td>\n",
       "      <td>0</td>\n",
       "    </tr>\n",
       "    <tr>\n",
       "      <th>4</th>\n",
       "      <td>62</td>\n",
       "      <td>0</td>\n",
       "      <td>0</td>\n",
       "      <td>138</td>\n",
       "      <td>294</td>\n",
       "      <td>1</td>\n",
       "      <td>1</td>\n",
       "      <td>106</td>\n",
       "      <td>0</td>\n",
       "      <td>1.9</td>\n",
       "      <td>1</td>\n",
       "      <td>3</td>\n",
       "      <td>2</td>\n",
       "      <td>0</td>\n",
       "    </tr>\n",
       "    <tr>\n",
       "      <th>...</th>\n",
       "      <td>...</td>\n",
       "      <td>...</td>\n",
       "      <td>...</td>\n",
       "      <td>...</td>\n",
       "      <td>...</td>\n",
       "      <td>...</td>\n",
       "      <td>...</td>\n",
       "      <td>...</td>\n",
       "      <td>...</td>\n",
       "      <td>...</td>\n",
       "      <td>...</td>\n",
       "      <td>...</td>\n",
       "      <td>...</td>\n",
       "      <td>...</td>\n",
       "    </tr>\n",
       "    <tr>\n",
       "      <th>1020</th>\n",
       "      <td>59</td>\n",
       "      <td>1</td>\n",
       "      <td>1</td>\n",
       "      <td>140</td>\n",
       "      <td>221</td>\n",
       "      <td>0</td>\n",
       "      <td>1</td>\n",
       "      <td>164</td>\n",
       "      <td>1</td>\n",
       "      <td>0.0</td>\n",
       "      <td>2</td>\n",
       "      <td>0</td>\n",
       "      <td>2</td>\n",
       "      <td>1</td>\n",
       "    </tr>\n",
       "    <tr>\n",
       "      <th>1021</th>\n",
       "      <td>60</td>\n",
       "      <td>1</td>\n",
       "      <td>0</td>\n",
       "      <td>125</td>\n",
       "      <td>258</td>\n",
       "      <td>0</td>\n",
       "      <td>0</td>\n",
       "      <td>141</td>\n",
       "      <td>1</td>\n",
       "      <td>2.8</td>\n",
       "      <td>1</td>\n",
       "      <td>1</td>\n",
       "      <td>3</td>\n",
       "      <td>0</td>\n",
       "    </tr>\n",
       "    <tr>\n",
       "      <th>1022</th>\n",
       "      <td>47</td>\n",
       "      <td>1</td>\n",
       "      <td>0</td>\n",
       "      <td>110</td>\n",
       "      <td>275</td>\n",
       "      <td>0</td>\n",
       "      <td>0</td>\n",
       "      <td>118</td>\n",
       "      <td>1</td>\n",
       "      <td>1.0</td>\n",
       "      <td>1</td>\n",
       "      <td>1</td>\n",
       "      <td>2</td>\n",
       "      <td>0</td>\n",
       "    </tr>\n",
       "    <tr>\n",
       "      <th>1023</th>\n",
       "      <td>50</td>\n",
       "      <td>0</td>\n",
       "      <td>0</td>\n",
       "      <td>110</td>\n",
       "      <td>254</td>\n",
       "      <td>0</td>\n",
       "      <td>0</td>\n",
       "      <td>159</td>\n",
       "      <td>0</td>\n",
       "      <td>0.0</td>\n",
       "      <td>2</td>\n",
       "      <td>0</td>\n",
       "      <td>2</td>\n",
       "      <td>1</td>\n",
       "    </tr>\n",
       "    <tr>\n",
       "      <th>1024</th>\n",
       "      <td>54</td>\n",
       "      <td>1</td>\n",
       "      <td>0</td>\n",
       "      <td>120</td>\n",
       "      <td>188</td>\n",
       "      <td>0</td>\n",
       "      <td>1</td>\n",
       "      <td>113</td>\n",
       "      <td>0</td>\n",
       "      <td>1.4</td>\n",
       "      <td>1</td>\n",
       "      <td>1</td>\n",
       "      <td>3</td>\n",
       "      <td>0</td>\n",
       "    </tr>\n",
       "  </tbody>\n",
       "</table>\n",
       "<p>1025 rows × 14 columns</p>\n",
       "</div>"
      ],
      "text/plain": [
       "      age  sex  cp  trestbps  chol  fbs  restecg  thalach  exang  oldpeak  \\\n",
       "0      52    1   0       125   212    0        1      168      0      1.0   \n",
       "1      53    1   0       140   203    1        0      155      1      3.1   \n",
       "2      70    1   0       145   174    0        1      125      1      2.6   \n",
       "3      61    1   0       148   203    0        1      161      0      0.0   \n",
       "4      62    0   0       138   294    1        1      106      0      1.9   \n",
       "...   ...  ...  ..       ...   ...  ...      ...      ...    ...      ...   \n",
       "1020   59    1   1       140   221    0        1      164      1      0.0   \n",
       "1021   60    1   0       125   258    0        0      141      1      2.8   \n",
       "1022   47    1   0       110   275    0        0      118      1      1.0   \n",
       "1023   50    0   0       110   254    0        0      159      0      0.0   \n",
       "1024   54    1   0       120   188    0        1      113      0      1.4   \n",
       "\n",
       "      slope  ca  thal  target  \n",
       "0         2   2     3       0  \n",
       "1         0   0     3       0  \n",
       "2         0   0     3       0  \n",
       "3         2   1     3       0  \n",
       "4         1   3     2       0  \n",
       "...     ...  ..   ...     ...  \n",
       "1020      2   0     2       1  \n",
       "1021      1   1     3       0  \n",
       "1022      1   1     2       0  \n",
       "1023      2   0     2       1  \n",
       "1024      1   1     3       0  \n",
       "\n",
       "[1025 rows x 14 columns]"
      ]
     },
     "execution_count": 26,
     "metadata": {},
     "output_type": "execute_result"
    }
   ],
   "source": [
    "df"
   ]
  },
  {
   "cell_type": "markdown",
   "id": "62db32a6-dbb4-4df6-82d1-bb721324e6c0",
   "metadata": {},
   "source": [
    "# Step-4 See the First 10 Rows"
   ]
  },
  {
   "cell_type": "code",
   "execution_count": 29,
   "id": "b95bce31-d6b0-4190-821f-55e6b007949f",
   "metadata": {},
   "outputs": [
    {
     "data": {
      "text/html": [
       "<div>\n",
       "<style scoped>\n",
       "    .dataframe tbody tr th:only-of-type {\n",
       "        vertical-align: middle;\n",
       "    }\n",
       "\n",
       "    .dataframe tbody tr th {\n",
       "        vertical-align: top;\n",
       "    }\n",
       "\n",
       "    .dataframe thead th {\n",
       "        text-align: right;\n",
       "    }\n",
       "</style>\n",
       "<table border=\"1\" class=\"dataframe\">\n",
       "  <thead>\n",
       "    <tr style=\"text-align: right;\">\n",
       "      <th></th>\n",
       "      <th>age</th>\n",
       "      <th>sex</th>\n",
       "      <th>cp</th>\n",
       "      <th>trestbps</th>\n",
       "      <th>chol</th>\n",
       "      <th>fbs</th>\n",
       "      <th>restecg</th>\n",
       "      <th>thalach</th>\n",
       "      <th>exang</th>\n",
       "      <th>oldpeak</th>\n",
       "      <th>slope</th>\n",
       "      <th>ca</th>\n",
       "      <th>thal</th>\n",
       "      <th>target</th>\n",
       "    </tr>\n",
       "  </thead>\n",
       "  <tbody>\n",
       "    <tr>\n",
       "      <th>0</th>\n",
       "      <td>52</td>\n",
       "      <td>1</td>\n",
       "      <td>0</td>\n",
       "      <td>125</td>\n",
       "      <td>212</td>\n",
       "      <td>0</td>\n",
       "      <td>1</td>\n",
       "      <td>168</td>\n",
       "      <td>0</td>\n",
       "      <td>1.0</td>\n",
       "      <td>2</td>\n",
       "      <td>2</td>\n",
       "      <td>3</td>\n",
       "      <td>0</td>\n",
       "    </tr>\n",
       "    <tr>\n",
       "      <th>1</th>\n",
       "      <td>53</td>\n",
       "      <td>1</td>\n",
       "      <td>0</td>\n",
       "      <td>140</td>\n",
       "      <td>203</td>\n",
       "      <td>1</td>\n",
       "      <td>0</td>\n",
       "      <td>155</td>\n",
       "      <td>1</td>\n",
       "      <td>3.1</td>\n",
       "      <td>0</td>\n",
       "      <td>0</td>\n",
       "      <td>3</td>\n",
       "      <td>0</td>\n",
       "    </tr>\n",
       "    <tr>\n",
       "      <th>2</th>\n",
       "      <td>70</td>\n",
       "      <td>1</td>\n",
       "      <td>0</td>\n",
       "      <td>145</td>\n",
       "      <td>174</td>\n",
       "      <td>0</td>\n",
       "      <td>1</td>\n",
       "      <td>125</td>\n",
       "      <td>1</td>\n",
       "      <td>2.6</td>\n",
       "      <td>0</td>\n",
       "      <td>0</td>\n",
       "      <td>3</td>\n",
       "      <td>0</td>\n",
       "    </tr>\n",
       "    <tr>\n",
       "      <th>3</th>\n",
       "      <td>61</td>\n",
       "      <td>1</td>\n",
       "      <td>0</td>\n",
       "      <td>148</td>\n",
       "      <td>203</td>\n",
       "      <td>0</td>\n",
       "      <td>1</td>\n",
       "      <td>161</td>\n",
       "      <td>0</td>\n",
       "      <td>0.0</td>\n",
       "      <td>2</td>\n",
       "      <td>1</td>\n",
       "      <td>3</td>\n",
       "      <td>0</td>\n",
       "    </tr>\n",
       "    <tr>\n",
       "      <th>4</th>\n",
       "      <td>62</td>\n",
       "      <td>0</td>\n",
       "      <td>0</td>\n",
       "      <td>138</td>\n",
       "      <td>294</td>\n",
       "      <td>1</td>\n",
       "      <td>1</td>\n",
       "      <td>106</td>\n",
       "      <td>0</td>\n",
       "      <td>1.9</td>\n",
       "      <td>1</td>\n",
       "      <td>3</td>\n",
       "      <td>2</td>\n",
       "      <td>0</td>\n",
       "    </tr>\n",
       "    <tr>\n",
       "      <th>5</th>\n",
       "      <td>58</td>\n",
       "      <td>0</td>\n",
       "      <td>0</td>\n",
       "      <td>100</td>\n",
       "      <td>248</td>\n",
       "      <td>0</td>\n",
       "      <td>0</td>\n",
       "      <td>122</td>\n",
       "      <td>0</td>\n",
       "      <td>1.0</td>\n",
       "      <td>1</td>\n",
       "      <td>0</td>\n",
       "      <td>2</td>\n",
       "      <td>1</td>\n",
       "    </tr>\n",
       "    <tr>\n",
       "      <th>6</th>\n",
       "      <td>58</td>\n",
       "      <td>1</td>\n",
       "      <td>0</td>\n",
       "      <td>114</td>\n",
       "      <td>318</td>\n",
       "      <td>0</td>\n",
       "      <td>2</td>\n",
       "      <td>140</td>\n",
       "      <td>0</td>\n",
       "      <td>4.4</td>\n",
       "      <td>0</td>\n",
       "      <td>3</td>\n",
       "      <td>1</td>\n",
       "      <td>0</td>\n",
       "    </tr>\n",
       "    <tr>\n",
       "      <th>7</th>\n",
       "      <td>55</td>\n",
       "      <td>1</td>\n",
       "      <td>0</td>\n",
       "      <td>160</td>\n",
       "      <td>289</td>\n",
       "      <td>0</td>\n",
       "      <td>0</td>\n",
       "      <td>145</td>\n",
       "      <td>1</td>\n",
       "      <td>0.8</td>\n",
       "      <td>1</td>\n",
       "      <td>1</td>\n",
       "      <td>3</td>\n",
       "      <td>0</td>\n",
       "    </tr>\n",
       "    <tr>\n",
       "      <th>8</th>\n",
       "      <td>46</td>\n",
       "      <td>1</td>\n",
       "      <td>0</td>\n",
       "      <td>120</td>\n",
       "      <td>249</td>\n",
       "      <td>0</td>\n",
       "      <td>0</td>\n",
       "      <td>144</td>\n",
       "      <td>0</td>\n",
       "      <td>0.8</td>\n",
       "      <td>2</td>\n",
       "      <td>0</td>\n",
       "      <td>3</td>\n",
       "      <td>0</td>\n",
       "    </tr>\n",
       "    <tr>\n",
       "      <th>9</th>\n",
       "      <td>54</td>\n",
       "      <td>1</td>\n",
       "      <td>0</td>\n",
       "      <td>122</td>\n",
       "      <td>286</td>\n",
       "      <td>0</td>\n",
       "      <td>0</td>\n",
       "      <td>116</td>\n",
       "      <td>1</td>\n",
       "      <td>3.2</td>\n",
       "      <td>1</td>\n",
       "      <td>2</td>\n",
       "      <td>2</td>\n",
       "      <td>0</td>\n",
       "    </tr>\n",
       "  </tbody>\n",
       "</table>\n",
       "</div>"
      ],
      "text/plain": [
       "   age  sex  cp  trestbps  chol  fbs  restecg  thalach  exang  oldpeak  slope  \\\n",
       "0   52    1   0       125   212    0        1      168      0      1.0      2   \n",
       "1   53    1   0       140   203    1        0      155      1      3.1      0   \n",
       "2   70    1   0       145   174    0        1      125      1      2.6      0   \n",
       "3   61    1   0       148   203    0        1      161      0      0.0      2   \n",
       "4   62    0   0       138   294    1        1      106      0      1.9      1   \n",
       "5   58    0   0       100   248    0        0      122      0      1.0      1   \n",
       "6   58    1   0       114   318    0        2      140      0      4.4      0   \n",
       "7   55    1   0       160   289    0        0      145      1      0.8      1   \n",
       "8   46    1   0       120   249    0        0      144      0      0.8      2   \n",
       "9   54    1   0       122   286    0        0      116      1      3.2      1   \n",
       "\n",
       "   ca  thal  target  \n",
       "0   2     3       0  \n",
       "1   0     3       0  \n",
       "2   0     3       0  \n",
       "3   1     3       0  \n",
       "4   3     2       0  \n",
       "5   0     2       1  \n",
       "6   3     1       0  \n",
       "7   1     3       0  \n",
       "8   0     3       0  \n",
       "9   2     2       0  "
      ]
     },
     "execution_count": 29,
     "metadata": {},
     "output_type": "execute_result"
    }
   ],
   "source": [
    "df.head(10)"
   ]
  },
  {
   "cell_type": "markdown",
   "id": "c88ee935-bd6b-4548-b52c-880a5f13b34a",
   "metadata": {},
   "source": [
    "# Step-5 Data type of each columns"
   ]
  },
  {
   "cell_type": "code",
   "execution_count": 32,
   "id": "a28c9971-ac45-4b55-b263-aeb86c856f59",
   "metadata": {},
   "outputs": [
    {
     "data": {
      "text/plain": [
       "age           int64\n",
       "sex           int64\n",
       "cp            int64\n",
       "trestbps      int64\n",
       "chol          int64\n",
       "fbs           int64\n",
       "restecg       int64\n",
       "thalach       int64\n",
       "exang         int64\n",
       "oldpeak     float64\n",
       "slope         int64\n",
       "ca            int64\n",
       "thal          int64\n",
       "target        int64\n",
       "dtype: object"
      ]
     },
     "execution_count": 32,
     "metadata": {},
     "output_type": "execute_result"
    }
   ],
   "source": [
    "df.dtypes"
   ]
  },
  {
   "cell_type": "markdown",
   "id": "049a3c04-6101-4ce0-b483-4fd53d233d77",
   "metadata": {},
   "source": [
    "# Step-6 Display Summary Information"
   ]
  },
  {
   "cell_type": "code",
   "execution_count": 35,
   "id": "0dfcf6d8-cda9-4885-99d9-bd2dc0879a75",
   "metadata": {},
   "outputs": [
    {
     "name": "stdout",
     "output_type": "stream",
     "text": [
      "<class 'pandas.core.frame.DataFrame'>\n",
      "RangeIndex: 1025 entries, 0 to 1024\n",
      "Data columns (total 14 columns):\n",
      " #   Column    Non-Null Count  Dtype  \n",
      "---  ------    --------------  -----  \n",
      " 0   age       1025 non-null   int64  \n",
      " 1   sex       1025 non-null   int64  \n",
      " 2   cp        1025 non-null   int64  \n",
      " 3   trestbps  1025 non-null   int64  \n",
      " 4   chol      1025 non-null   int64  \n",
      " 5   fbs       1025 non-null   int64  \n",
      " 6   restecg   1025 non-null   int64  \n",
      " 7   thalach   1025 non-null   int64  \n",
      " 8   exang     1025 non-null   int64  \n",
      " 9   oldpeak   1025 non-null   float64\n",
      " 10  slope     1025 non-null   int64  \n",
      " 11  ca        1025 non-null   int64  \n",
      " 12  thal      1025 non-null   int64  \n",
      " 13  target    1025 non-null   int64  \n",
      "dtypes: float64(1), int64(13)\n",
      "memory usage: 112.2 KB\n"
     ]
    }
   ],
   "source": [
    "df.describe()\n",
    "df.info() # give all information like how many values are null and all"
   ]
  },
  {
   "cell_type": "markdown",
   "id": "d60970de-81d4-411b-9943-17bd9e03c590",
   "metadata": {},
   "source": [
    "# Step-7 Access a specific column "
   ]
  },
  {
   "cell_type": "code",
   "execution_count": 38,
   "id": "c6de8a94-e3fe-419f-ac3e-68c64c75001b",
   "metadata": {},
   "outputs": [
    {
     "data": {
      "text/plain": [
       "0       1\n",
       "1       1\n",
       "2       1\n",
       "3       1\n",
       "4       0\n",
       "       ..\n",
       "1020    1\n",
       "1021    1\n",
       "1022    1\n",
       "1023    0\n",
       "1024    1\n",
       "Name: sex, Length: 1025, dtype: int64"
      ]
     },
     "execution_count": 38,
     "metadata": {},
     "output_type": "execute_result"
    }
   ],
   "source": [
    "df['sex']\n",
    "\n",
    "   #OR\n",
    "\n",
    "df.sex"
   ]
  },
  {
   "cell_type": "markdown",
   "id": "84ca67c1-7adf-4bc0-8380-41fd8d50c1a3",
   "metadata": {},
   "source": [
    "# Step-8 Delete a specific Column"
   ]
  },
  {
   "cell_type": "markdown",
   "id": "1d8274a8-51f4-4308-a8be-bbee4a91d2dc",
   "metadata": {},
   "source": [
    "#delete temporary , didn't delete permanently\n",
    "df.drop(\"sex\",axis=1)"
   ]
  },
  {
   "cell_type": "markdown",
   "id": "aa5d1922-00fa-41e0-9a91-12395dd8a3d4",
   "metadata": {},
   "source": [
    "# Step-9 Perform Condition Selection on DataFrame"
   ]
  },
  {
   "cell_type": "code",
   "execution_count": 46,
   "id": "dcdc8554-92e5-47ad-babc-a286fb167da9",
   "metadata": {},
   "outputs": [
    {
     "data": {
      "text/html": [
       "<div>\n",
       "<style scoped>\n",
       "    .dataframe tbody tr th:only-of-type {\n",
       "        vertical-align: middle;\n",
       "    }\n",
       "\n",
       "    .dataframe tbody tr th {\n",
       "        vertical-align: top;\n",
       "    }\n",
       "\n",
       "    .dataframe thead th {\n",
       "        text-align: right;\n",
       "    }\n",
       "</style>\n",
       "<table border=\"1\" class=\"dataframe\">\n",
       "  <thead>\n",
       "    <tr style=\"text-align: right;\">\n",
       "      <th></th>\n",
       "      <th>age</th>\n",
       "      <th>sex</th>\n",
       "      <th>cp</th>\n",
       "      <th>trestbps</th>\n",
       "      <th>chol</th>\n",
       "      <th>fbs</th>\n",
       "      <th>restecg</th>\n",
       "      <th>thalach</th>\n",
       "      <th>exang</th>\n",
       "      <th>oldpeak</th>\n",
       "      <th>slope</th>\n",
       "      <th>ca</th>\n",
       "      <th>thal</th>\n",
       "      <th>target</th>\n",
       "    </tr>\n",
       "  </thead>\n",
       "  <tbody>\n",
       "    <tr>\n",
       "      <th>0</th>\n",
       "      <td>52</td>\n",
       "      <td>1</td>\n",
       "      <td>0</td>\n",
       "      <td>125</td>\n",
       "      <td>212</td>\n",
       "      <td>0</td>\n",
       "      <td>1</td>\n",
       "      <td>168</td>\n",
       "      <td>0</td>\n",
       "      <td>1.0</td>\n",
       "      <td>2</td>\n",
       "      <td>2</td>\n",
       "      <td>3</td>\n",
       "      <td>0</td>\n",
       "    </tr>\n",
       "    <tr>\n",
       "      <th>3</th>\n",
       "      <td>61</td>\n",
       "      <td>1</td>\n",
       "      <td>0</td>\n",
       "      <td>148</td>\n",
       "      <td>203</td>\n",
       "      <td>0</td>\n",
       "      <td>1</td>\n",
       "      <td>161</td>\n",
       "      <td>0</td>\n",
       "      <td>0.0</td>\n",
       "      <td>2</td>\n",
       "      <td>1</td>\n",
       "      <td>3</td>\n",
       "      <td>0</td>\n",
       "    </tr>\n",
       "    <tr>\n",
       "      <th>8</th>\n",
       "      <td>46</td>\n",
       "      <td>1</td>\n",
       "      <td>0</td>\n",
       "      <td>120</td>\n",
       "      <td>249</td>\n",
       "      <td>0</td>\n",
       "      <td>0</td>\n",
       "      <td>144</td>\n",
       "      <td>0</td>\n",
       "      <td>0.8</td>\n",
       "      <td>2</td>\n",
       "      <td>0</td>\n",
       "      <td>3</td>\n",
       "      <td>0</td>\n",
       "    </tr>\n",
       "    <tr>\n",
       "      <th>12</th>\n",
       "      <td>34</td>\n",
       "      <td>0</td>\n",
       "      <td>1</td>\n",
       "      <td>118</td>\n",
       "      <td>210</td>\n",
       "      <td>0</td>\n",
       "      <td>1</td>\n",
       "      <td>192</td>\n",
       "      <td>0</td>\n",
       "      <td>0.7</td>\n",
       "      <td>2</td>\n",
       "      <td>0</td>\n",
       "      <td>2</td>\n",
       "      <td>1</td>\n",
       "    </tr>\n",
       "    <tr>\n",
       "      <th>15</th>\n",
       "      <td>34</td>\n",
       "      <td>0</td>\n",
       "      <td>1</td>\n",
       "      <td>118</td>\n",
       "      <td>210</td>\n",
       "      <td>0</td>\n",
       "      <td>1</td>\n",
       "      <td>192</td>\n",
       "      <td>0</td>\n",
       "      <td>0.7</td>\n",
       "      <td>2</td>\n",
       "      <td>0</td>\n",
       "      <td>2</td>\n",
       "      <td>1</td>\n",
       "    </tr>\n",
       "    <tr>\n",
       "      <th>...</th>\n",
       "      <td>...</td>\n",
       "      <td>...</td>\n",
       "      <td>...</td>\n",
       "      <td>...</td>\n",
       "      <td>...</td>\n",
       "      <td>...</td>\n",
       "      <td>...</td>\n",
       "      <td>...</td>\n",
       "      <td>...</td>\n",
       "      <td>...</td>\n",
       "      <td>...</td>\n",
       "      <td>...</td>\n",
       "      <td>...</td>\n",
       "      <td>...</td>\n",
       "    </tr>\n",
       "    <tr>\n",
       "      <th>1011</th>\n",
       "      <td>45</td>\n",
       "      <td>1</td>\n",
       "      <td>1</td>\n",
       "      <td>128</td>\n",
       "      <td>308</td>\n",
       "      <td>0</td>\n",
       "      <td>0</td>\n",
       "      <td>170</td>\n",
       "      <td>0</td>\n",
       "      <td>0.0</td>\n",
       "      <td>2</td>\n",
       "      <td>0</td>\n",
       "      <td>2</td>\n",
       "      <td>1</td>\n",
       "    </tr>\n",
       "    <tr>\n",
       "      <th>1018</th>\n",
       "      <td>41</td>\n",
       "      <td>1</td>\n",
       "      <td>0</td>\n",
       "      <td>110</td>\n",
       "      <td>172</td>\n",
       "      <td>0</td>\n",
       "      <td>0</td>\n",
       "      <td>158</td>\n",
       "      <td>0</td>\n",
       "      <td>0.0</td>\n",
       "      <td>2</td>\n",
       "      <td>0</td>\n",
       "      <td>3</td>\n",
       "      <td>0</td>\n",
       "    </tr>\n",
       "    <tr>\n",
       "      <th>1019</th>\n",
       "      <td>47</td>\n",
       "      <td>1</td>\n",
       "      <td>0</td>\n",
       "      <td>112</td>\n",
       "      <td>204</td>\n",
       "      <td>0</td>\n",
       "      <td>1</td>\n",
       "      <td>143</td>\n",
       "      <td>0</td>\n",
       "      <td>0.1</td>\n",
       "      <td>2</td>\n",
       "      <td>0</td>\n",
       "      <td>2</td>\n",
       "      <td>1</td>\n",
       "    </tr>\n",
       "    <tr>\n",
       "      <th>1020</th>\n",
       "      <td>59</td>\n",
       "      <td>1</td>\n",
       "      <td>1</td>\n",
       "      <td>140</td>\n",
       "      <td>221</td>\n",
       "      <td>0</td>\n",
       "      <td>1</td>\n",
       "      <td>164</td>\n",
       "      <td>1</td>\n",
       "      <td>0.0</td>\n",
       "      <td>2</td>\n",
       "      <td>0</td>\n",
       "      <td>2</td>\n",
       "      <td>1</td>\n",
       "    </tr>\n",
       "    <tr>\n",
       "      <th>1023</th>\n",
       "      <td>50</td>\n",
       "      <td>0</td>\n",
       "      <td>0</td>\n",
       "      <td>110</td>\n",
       "      <td>254</td>\n",
       "      <td>0</td>\n",
       "      <td>0</td>\n",
       "      <td>159</td>\n",
       "      <td>0</td>\n",
       "      <td>0.0</td>\n",
       "      <td>2</td>\n",
       "      <td>0</td>\n",
       "      <td>2</td>\n",
       "      <td>1</td>\n",
       "    </tr>\n",
       "  </tbody>\n",
       "</table>\n",
       "<p>469 rows × 14 columns</p>\n",
       "</div>"
      ],
      "text/plain": [
       "      age  sex  cp  trestbps  chol  fbs  restecg  thalach  exang  oldpeak  \\\n",
       "0      52    1   0       125   212    0        1      168      0      1.0   \n",
       "3      61    1   0       148   203    0        1      161      0      0.0   \n",
       "8      46    1   0       120   249    0        0      144      0      0.8   \n",
       "12     34    0   1       118   210    0        1      192      0      0.7   \n",
       "15     34    0   1       118   210    0        1      192      0      0.7   \n",
       "...   ...  ...  ..       ...   ...  ...      ...      ...    ...      ...   \n",
       "1011   45    1   1       128   308    0        0      170      0      0.0   \n",
       "1018   41    1   0       110   172    0        0      158      0      0.0   \n",
       "1019   47    1   0       112   204    0        1      143      0      0.1   \n",
       "1020   59    1   1       140   221    0        1      164      1      0.0   \n",
       "1023   50    0   0       110   254    0        0      159      0      0.0   \n",
       "\n",
       "      slope  ca  thal  target  \n",
       "0         2   2     3       0  \n",
       "3         2   1     3       0  \n",
       "8         2   0     3       0  \n",
       "12        2   0     2       1  \n",
       "15        2   0     2       1  \n",
       "...     ...  ..   ...     ...  \n",
       "1011      2   0     2       1  \n",
       "1018      2   0     3       0  \n",
       "1019      2   0     2       1  \n",
       "1020      2   0     2       1  \n",
       "1023      2   0     2       1  \n",
       "\n",
       "[469 rows x 14 columns]"
      ]
     },
     "execution_count": 46,
     "metadata": {},
     "output_type": "execute_result"
    }
   ],
   "source": [
    "df[df['slope']>1]"
   ]
  },
  {
   "cell_type": "markdown",
   "id": "f52da3a3-cd33-465e-bf48-d53560e59e37",
   "metadata": {},
   "source": [
    "# Step-10 Compute the sum of value"
   ]
  },
  {
   "cell_type": "code",
   "execution_count": 49,
   "id": "d4901687-f6dc-4a48-b7e8-40a1e6cea87e",
   "metadata": {},
   "outputs": [
    {
     "data": {
      "text/plain": [
       "134902"
      ]
     },
     "execution_count": 49,
     "metadata": {},
     "output_type": "execute_result"
    }
   ],
   "source": [
    "df.trestbps.sum()"
   ]
  },
  {
   "cell_type": "markdown",
   "id": "4c875b07-839a-4f7e-ac73-17b2326ee5e1",
   "metadata": {},
   "source": [
    "# Step-11 Compute the mean of value"
   ]
  },
  {
   "cell_type": "code",
   "execution_count": 52,
   "id": "a368f89f-2e74-4ceb-82d9-0ef2adad89fc",
   "metadata": {},
   "outputs": [
    {
     "data": {
      "text/plain": [
       "131.61170731707318"
      ]
     },
     "execution_count": 52,
     "metadata": {},
     "output_type": "execute_result"
    }
   ],
   "source": [
    "df.trestbps.mean()"
   ]
  },
  {
   "cell_type": "markdown",
   "id": "9e2a3c92-9322-4238-bea0-74d4b12774a8",
   "metadata": {},
   "source": [
    "# Step-12 Find Minimun or Maximum values"
   ]
  },
  {
   "cell_type": "code",
   "execution_count": 55,
   "id": "9c05b0e7-e99b-4905-b437-92f183f3e547",
   "metadata": {},
   "outputs": [
    {
     "data": {
      "text/plain": [
       "94"
      ]
     },
     "execution_count": 55,
     "metadata": {},
     "output_type": "execute_result"
    }
   ],
   "source": [
    "df.trestbps.min()"
   ]
  },
  {
   "cell_type": "code",
   "execution_count": 57,
   "id": "450d1693-ba9a-4f09-ab32-709b6fdd6bf2",
   "metadata": {},
   "outputs": [
    {
     "data": {
      "text/plain": [
       "200"
      ]
     },
     "execution_count": 57,
     "metadata": {},
     "output_type": "execute_result"
    }
   ],
   "source": [
    "df.trestbps.max()"
   ]
  },
  {
   "cell_type": "markdown",
   "id": "1e927681-f060-49c2-93cc-7bf4b3f67e58",
   "metadata": {},
   "source": [
    "# Step-12 Create a 1D array of numbers"
   ]
  },
  {
   "cell_type": "markdown",
   "id": "36764577-bad8-4170-a8f5-2dfb6ced3294",
   "metadata": {},
   "source": [
    "# Step 1. Import the Numpy library"
   ]
  },
  {
   "cell_type": "code",
   "execution_count": 61,
   "id": "0431398d-bf69-4188-ba55-8afd78958e40",
   "metadata": {},
   "outputs": [],
   "source": [
    "import numpy as np"
   ]
  },
  {
   "cell_type": "code",
   "execution_count": 67,
   "id": "822141fd-2b7b-4c3a-88df-aaf01c4bdfdf",
   "metadata": {},
   "outputs": [
    {
     "data": {
      "text/plain": [
       "array([ 0,  1,  2,  3,  4,  5,  6,  7,  8,  9, 10, 11, 12, 13, 14, 15, 16,\n",
       "       17, 18, 19, 20, 21, 22, 23, 24, 25, 26, 27, 28, 29, 30, 31, 32, 33,\n",
       "       34, 35, 36, 37, 38, 39, 40, 41, 42, 43, 44, 45, 46, 47, 48, 49, 50,\n",
       "       51, 52, 53, 54, 55, 56, 57, 58, 59, 60, 61, 62, 63, 64, 65, 66, 67,\n",
       "       68, 69, 70, 71, 72, 73, 74, 75, 76, 77, 78, 79, 80, 81, 82, 83, 84,\n",
       "       85, 86, 87, 88, 89, 90, 91, 92, 93, 94, 95, 96, 97, 98, 99])"
      ]
     },
     "execution_count": 67,
     "metadata": {},
     "output_type": "execute_result"
    }
   ],
   "source": [
    "# np.arange create one dimentinal array\n",
    "array = np.arange(100)\n",
    "array"
   ]
  },
  {
   "cell_type": "markdown",
   "id": "421b3fc3-c21e-4aa9-a508-6f246a679365",
   "metadata": {},
   "source": [
    "# Step-14 Indexing in 1D "
   ]
  },
  {
   "cell_type": "code",
   "execution_count": 70,
   "id": "ae28b706-16be-4240-858a-064dd9fbb9f5",
   "metadata": {},
   "outputs": [
    {
     "data": {
      "text/plain": [
       "20"
      ]
     },
     "execution_count": 70,
     "metadata": {},
     "output_type": "execute_result"
    }
   ],
   "source": [
    "array[20]"
   ]
  },
  {
   "cell_type": "markdown",
   "id": "b7e426cc-74ea-4454-a301-27bfe89f1a97",
   "metadata": {},
   "source": [
    "# Step-15 Create a 1D Array and get Max,Min,ArgMax,ArgMin"
   ]
  },
  {
   "cell_type": "code",
   "execution_count": 73,
   "id": "cbe71045-8f1b-46fd-ab7d-469e9ac4ef57",
   "metadata": {},
   "outputs": [
    {
     "data": {
      "text/plain": [
       "array([17, 10, 26, 31, 20])"
      ]
     },
     "execution_count": 73,
     "metadata": {},
     "output_type": "execute_result"
    }
   ],
   "source": [
    "array = np.random.randint(10,40,size=5)\n",
    "array"
   ]
  },
  {
   "cell_type": "code",
   "execution_count": 75,
   "id": "2f02300c-d008-46cc-83ec-b283aa0ee39d",
   "metadata": {},
   "outputs": [
    {
     "data": {
      "text/plain": [
       "31"
      ]
     },
     "execution_count": 75,
     "metadata": {},
     "output_type": "execute_result"
    }
   ],
   "source": [
    "array.max()"
   ]
  },
  {
   "cell_type": "markdown",
   "id": "25530f9a-baf8-457e-bb39-fa219b11f984",
   "metadata": {},
   "source": [
    "# Step-16 Conditional Selection"
   ]
  },
  {
   "cell_type": "code",
   "execution_count": 78,
   "id": "f76b5e6d-39f3-47e7-a181-90836e756b42",
   "metadata": {},
   "outputs": [
    {
     "data": {
      "text/plain": [
       "array([26, 40, 36, 39, 35, 39, 36, 26, 31, 34, 31, 31, 32, 38, 26, 34, 21,\n",
       "       29, 29, 26, 20, 30, 36, 21, 20, 33, 32, 26, 27, 35, 29, 39, 35, 31,\n",
       "       23, 21, 34, 40, 29, 21, 34, 31, 27, 20, 32, 40, 32, 33, 23, 25, 33,\n",
       "       23, 32, 37, 37, 32, 36, 28, 34, 36])"
      ]
     },
     "execution_count": 78,
     "metadata": {},
     "output_type": "execute_result"
    }
   ],
   "source": [
    "arr = np.random.randint(20,41,size=60)\n",
    "arr"
   ]
  },
  {
   "cell_type": "markdown",
   "id": "667b0903-e1ed-4bde-b09b-81be7ffdbc27",
   "metadata": {},
   "source": [
    "# step-17  For the qualitative attribute (class), count the frequency for each of its distinct values.\n"
   ]
  },
  {
   "cell_type": "code",
   "execution_count": 107,
   "id": "03a5ecc5-3fc7-4937-82f8-2fd90620f0df",
   "metadata": {},
   "outputs": [
    {
     "data": {
      "text/plain": [
       "fbs\n",
       "0    872\n",
       "1    153\n",
       "Name: count, dtype: int64"
      ]
     },
     "execution_count": 107,
     "metadata": {},
     "output_type": "execute_result"
    }
   ],
   "source": [
    "df['fbs'].value_counts()"
   ]
  },
  {
   "cell_type": "markdown",
   "id": "7f4e4f7b-28c7-4059-91ce-5ba3975b4bf2",
   "metadata": {},
   "source": [
    "# step-18 It is also possible to display the summary for all the attributes simultaneously in a table using the describe() function. If an attribute is quantitative, it will display its mean, standard deviation and various quantiles (including minimum, median, and maximum) values. If an attribute is qualitative, it will display its number of unique values and the top (most frequent) values."
   ]
  },
  {
   "cell_type": "code",
   "execution_count": 110,
   "id": "dbf27cbb-5fde-4a97-8832-c3190f6ac7d3",
   "metadata": {},
   "outputs": [
    {
     "data": {
      "text/html": [
       "<div>\n",
       "<style scoped>\n",
       "    .dataframe tbody tr th:only-of-type {\n",
       "        vertical-align: middle;\n",
       "    }\n",
       "\n",
       "    .dataframe tbody tr th {\n",
       "        vertical-align: top;\n",
       "    }\n",
       "\n",
       "    .dataframe thead th {\n",
       "        text-align: right;\n",
       "    }\n",
       "</style>\n",
       "<table border=\"1\" class=\"dataframe\">\n",
       "  <thead>\n",
       "    <tr style=\"text-align: right;\">\n",
       "      <th></th>\n",
       "      <th>age</th>\n",
       "      <th>sex</th>\n",
       "      <th>cp</th>\n",
       "      <th>trestbps</th>\n",
       "      <th>chol</th>\n",
       "      <th>fbs</th>\n",
       "      <th>restecg</th>\n",
       "      <th>thalach</th>\n",
       "      <th>exang</th>\n",
       "      <th>oldpeak</th>\n",
       "      <th>slope</th>\n",
       "      <th>ca</th>\n",
       "      <th>thal</th>\n",
       "      <th>target</th>\n",
       "    </tr>\n",
       "  </thead>\n",
       "  <tbody>\n",
       "    <tr>\n",
       "      <th>count</th>\n",
       "      <td>1025.000000</td>\n",
       "      <td>1025.000000</td>\n",
       "      <td>1025.000000</td>\n",
       "      <td>1025.000000</td>\n",
       "      <td>1025.00000</td>\n",
       "      <td>1025.000000</td>\n",
       "      <td>1025.000000</td>\n",
       "      <td>1025.000000</td>\n",
       "      <td>1025.000000</td>\n",
       "      <td>1025.000000</td>\n",
       "      <td>1025.000000</td>\n",
       "      <td>1025.000000</td>\n",
       "      <td>1025.000000</td>\n",
       "      <td>1025.000000</td>\n",
       "    </tr>\n",
       "    <tr>\n",
       "      <th>mean</th>\n",
       "      <td>54.434146</td>\n",
       "      <td>0.695610</td>\n",
       "      <td>0.942439</td>\n",
       "      <td>131.611707</td>\n",
       "      <td>246.00000</td>\n",
       "      <td>0.149268</td>\n",
       "      <td>0.529756</td>\n",
       "      <td>149.114146</td>\n",
       "      <td>0.336585</td>\n",
       "      <td>1.071512</td>\n",
       "      <td>1.385366</td>\n",
       "      <td>0.754146</td>\n",
       "      <td>2.323902</td>\n",
       "      <td>0.513171</td>\n",
       "    </tr>\n",
       "    <tr>\n",
       "      <th>std</th>\n",
       "      <td>9.072290</td>\n",
       "      <td>0.460373</td>\n",
       "      <td>1.029641</td>\n",
       "      <td>17.516718</td>\n",
       "      <td>51.59251</td>\n",
       "      <td>0.356527</td>\n",
       "      <td>0.527878</td>\n",
       "      <td>23.005724</td>\n",
       "      <td>0.472772</td>\n",
       "      <td>1.175053</td>\n",
       "      <td>0.617755</td>\n",
       "      <td>1.030798</td>\n",
       "      <td>0.620660</td>\n",
       "      <td>0.500070</td>\n",
       "    </tr>\n",
       "    <tr>\n",
       "      <th>min</th>\n",
       "      <td>29.000000</td>\n",
       "      <td>0.000000</td>\n",
       "      <td>0.000000</td>\n",
       "      <td>94.000000</td>\n",
       "      <td>126.00000</td>\n",
       "      <td>0.000000</td>\n",
       "      <td>0.000000</td>\n",
       "      <td>71.000000</td>\n",
       "      <td>0.000000</td>\n",
       "      <td>0.000000</td>\n",
       "      <td>0.000000</td>\n",
       "      <td>0.000000</td>\n",
       "      <td>0.000000</td>\n",
       "      <td>0.000000</td>\n",
       "    </tr>\n",
       "    <tr>\n",
       "      <th>25%</th>\n",
       "      <td>48.000000</td>\n",
       "      <td>0.000000</td>\n",
       "      <td>0.000000</td>\n",
       "      <td>120.000000</td>\n",
       "      <td>211.00000</td>\n",
       "      <td>0.000000</td>\n",
       "      <td>0.000000</td>\n",
       "      <td>132.000000</td>\n",
       "      <td>0.000000</td>\n",
       "      <td>0.000000</td>\n",
       "      <td>1.000000</td>\n",
       "      <td>0.000000</td>\n",
       "      <td>2.000000</td>\n",
       "      <td>0.000000</td>\n",
       "    </tr>\n",
       "    <tr>\n",
       "      <th>50%</th>\n",
       "      <td>56.000000</td>\n",
       "      <td>1.000000</td>\n",
       "      <td>1.000000</td>\n",
       "      <td>130.000000</td>\n",
       "      <td>240.00000</td>\n",
       "      <td>0.000000</td>\n",
       "      <td>1.000000</td>\n",
       "      <td>152.000000</td>\n",
       "      <td>0.000000</td>\n",
       "      <td>0.800000</td>\n",
       "      <td>1.000000</td>\n",
       "      <td>0.000000</td>\n",
       "      <td>2.000000</td>\n",
       "      <td>1.000000</td>\n",
       "    </tr>\n",
       "    <tr>\n",
       "      <th>75%</th>\n",
       "      <td>61.000000</td>\n",
       "      <td>1.000000</td>\n",
       "      <td>2.000000</td>\n",
       "      <td>140.000000</td>\n",
       "      <td>275.00000</td>\n",
       "      <td>0.000000</td>\n",
       "      <td>1.000000</td>\n",
       "      <td>166.000000</td>\n",
       "      <td>1.000000</td>\n",
       "      <td>1.800000</td>\n",
       "      <td>2.000000</td>\n",
       "      <td>1.000000</td>\n",
       "      <td>3.000000</td>\n",
       "      <td>1.000000</td>\n",
       "    </tr>\n",
       "    <tr>\n",
       "      <th>max</th>\n",
       "      <td>77.000000</td>\n",
       "      <td>1.000000</td>\n",
       "      <td>3.000000</td>\n",
       "      <td>200.000000</td>\n",
       "      <td>564.00000</td>\n",
       "      <td>1.000000</td>\n",
       "      <td>2.000000</td>\n",
       "      <td>202.000000</td>\n",
       "      <td>1.000000</td>\n",
       "      <td>6.200000</td>\n",
       "      <td>2.000000</td>\n",
       "      <td>4.000000</td>\n",
       "      <td>3.000000</td>\n",
       "      <td>1.000000</td>\n",
       "    </tr>\n",
       "  </tbody>\n",
       "</table>\n",
       "</div>"
      ],
      "text/plain": [
       "               age          sex           cp     trestbps        chol  \\\n",
       "count  1025.000000  1025.000000  1025.000000  1025.000000  1025.00000   \n",
       "mean     54.434146     0.695610     0.942439   131.611707   246.00000   \n",
       "std       9.072290     0.460373     1.029641    17.516718    51.59251   \n",
       "min      29.000000     0.000000     0.000000    94.000000   126.00000   \n",
       "25%      48.000000     0.000000     0.000000   120.000000   211.00000   \n",
       "50%      56.000000     1.000000     1.000000   130.000000   240.00000   \n",
       "75%      61.000000     1.000000     2.000000   140.000000   275.00000   \n",
       "max      77.000000     1.000000     3.000000   200.000000   564.00000   \n",
       "\n",
       "               fbs      restecg      thalach        exang      oldpeak  \\\n",
       "count  1025.000000  1025.000000  1025.000000  1025.000000  1025.000000   \n",
       "mean      0.149268     0.529756   149.114146     0.336585     1.071512   \n",
       "std       0.356527     0.527878    23.005724     0.472772     1.175053   \n",
       "min       0.000000     0.000000    71.000000     0.000000     0.000000   \n",
       "25%       0.000000     0.000000   132.000000     0.000000     0.000000   \n",
       "50%       0.000000     1.000000   152.000000     0.000000     0.800000   \n",
       "75%       0.000000     1.000000   166.000000     1.000000     1.800000   \n",
       "max       1.000000     2.000000   202.000000     1.000000     6.200000   \n",
       "\n",
       "             slope           ca         thal       target  \n",
       "count  1025.000000  1025.000000  1025.000000  1025.000000  \n",
       "mean      1.385366     0.754146     2.323902     0.513171  \n",
       "std       0.617755     1.030798     0.620660     0.500070  \n",
       "min       0.000000     0.000000     0.000000     0.000000  \n",
       "25%       1.000000     0.000000     2.000000     0.000000  \n",
       "50%       1.000000     0.000000     2.000000     1.000000  \n",
       "75%       2.000000     1.000000     3.000000     1.000000  \n",
       "max       2.000000     4.000000     3.000000     1.000000  "
      ]
     },
     "execution_count": 110,
     "metadata": {},
     "output_type": "execute_result"
    }
   ],
   "source": [
    "df.describe(include =\"all\")"
   ]
  },
  {
   "cell_type": "markdown",
   "id": "aca3d4a1-9a0c-48b4-9a17-b619845fbad3",
   "metadata": {},
   "source": [
    "# step-19 Display the histogram for Age attribute by discretizing it into 8 separate bins and counting the frequency for each bin."
   ]
  },
  {
   "cell_type": "code",
   "execution_count": 113,
   "id": "17268d15-b35c-4bc9-bafe-5cf5f4a06487",
   "metadata": {},
   "outputs": [],
   "source": [
    "import matplotlib.pyplot as plt"
   ]
  },
  {
   "cell_type": "code",
   "execution_count": 115,
   "id": "2dd99b45-e3b2-4c28-a0f4-7885e8902e6a",
   "metadata": {},
   "outputs": [
    {
     "data": {
      "text/plain": [
       "<function matplotlib.pyplot.show(close=None, block=None)>"
      ]
     },
     "execution_count": 115,
     "metadata": {},
     "output_type": "execute_result"
    },
    {
     "data": {
      "image/png": "[encoded data removed]",
      "text/plain": [
       "<Figure size 640x480 with 1 Axes>"
      ]
     },
     "metadata": {},
     "output_type": "display_data"
    }
   ],
   "source": [
    "df['fbs'].hist(bins=8)\n",
    "plt.xlabel('fbs')\n",
    "plt.show"
   ]
  },
  {
   "cell_type": "markdown",
   "id": "d1493a36-bf27-49d4-89e4-a7f804a6e7b1",
   "metadata": {},
   "source": [
    "# step-20 A boxplot can also be used to show the distribution of values for each attribute."
   ]
  },
  {
   "cell_type": "code",
   "execution_count": 122,
   "id": "42d830b2-9ce2-4ada-a6c1-bfbd16fcfd97",
   "metadata": {},
   "outputs": [
    {
     "data": {
      "text/plain": [
       "<Axes: >"
      ]
     },
     "execution_count": 122,
     "metadata": {},
     "output_type": "execute_result"
    },
    {
     "data": {
      "image/png": "[encoded data removed]",
      "text/plain": [
       "<Figure size 640x480 with 1 Axes>"
      ]
     },
     "metadata": {},
     "output_type": "display_data"
    }
   ],
   "source": [
    "df[['fbs']].boxplot()"
   ]
  },
  {
   "cell_type": "markdown",
   "id": "8e0013a6-4a72-4502-8677-28e13bd2d556",
   "metadata": {},
   "source": [
    "# step-21 For multivariate statistics, you can compute the covariance and correlation between pairs of attributes."
   ]
  },
  {
   "cell_type": "code",
   "execution_count": 125,
   "id": "82de544f-5435-440a-901d-4ba5ad2c2def",
   "metadata": {},
   "outputs": [
    {
     "data": {
      "text/html": [
       "<div>\n",
       "<style scoped>\n",
       "    .dataframe tbody tr th:only-of-type {\n",
       "        vertical-align: middle;\n",
       "    }\n",
       "\n",
       "    .dataframe tbody tr th {\n",
       "        vertical-align: top;\n",
       "    }\n",
       "\n",
       "    .dataframe thead th {\n",
       "        text-align: right;\n",
       "    }\n",
       "</style>\n",
       "<table border=\"1\" class=\"dataframe\">\n",
       "  <thead>\n",
       "    <tr style=\"text-align: right;\">\n",
       "      <th></th>\n",
       "      <th>age</th>\n",
       "      <th>sex</th>\n",
       "      <th>cp</th>\n",
       "      <th>trestbps</th>\n",
       "      <th>chol</th>\n",
       "      <th>fbs</th>\n",
       "      <th>restecg</th>\n",
       "      <th>thalach</th>\n",
       "      <th>exang</th>\n",
       "      <th>oldpeak</th>\n",
       "      <th>slope</th>\n",
       "      <th>ca</th>\n",
       "      <th>thal</th>\n",
       "      <th>target</th>\n",
       "    </tr>\n",
       "  </thead>\n",
       "  <tbody>\n",
       "    <tr>\n",
       "      <th>age</th>\n",
       "      <td>82.306450</td>\n",
       "      <td>-0.431198</td>\n",
       "      <td>-0.672251</td>\n",
       "      <td>43.085733</td>\n",
       "      <td>102.890625</td>\n",
       "      <td>0.392164</td>\n",
       "      <td>-0.635490</td>\n",
       "      <td>-81.446089</td>\n",
       "      <td>0.378144</td>\n",
       "      <td>2.218825</td>\n",
       "      <td>-0.947742</td>\n",
       "      <td>2.539458</td>\n",
       "      <td>0.407093</td>\n",
       "      <td>-1.040392</td>\n",
       "    </tr>\n",
       "    <tr>\n",
       "      <th>sex</th>\n",
       "      <td>-0.431198</td>\n",
       "      <td>0.211944</td>\n",
       "      <td>-0.019491</td>\n",
       "      <td>-0.636863</td>\n",
       "      <td>-4.708984</td>\n",
       "      <td>0.004465</td>\n",
       "      <td>-0.013395</td>\n",
       "      <td>-0.522838</td>\n",
       "      <td>0.030288</td>\n",
       "      <td>0.045812</td>\n",
       "      <td>-0.007584</td>\n",
       "      <td>0.053021</td>\n",
       "      <td>0.056697</td>\n",
       "      <td>-0.064346</td>\n",
       "    </tr>\n",
       "    <tr>\n",
       "      <th>cp</th>\n",
       "      <td>-0.672251</td>\n",
       "      <td>-0.019491</td>\n",
       "      <td>1.060160</td>\n",
       "      <td>0.688565</td>\n",
       "      <td>-4.336914</td>\n",
       "      <td>0.029108</td>\n",
       "      <td>0.023687</td>\n",
       "      <td>7.268296</td>\n",
       "      <td>-0.195451</td>\n",
       "      <td>-0.211407</td>\n",
       "      <td>0.083727</td>\n",
       "      <td>-0.187017</td>\n",
       "      <td>-0.104385</td>\n",
       "      <td>0.223903</td>\n",
       "    </tr>\n",
       "    <tr>\n",
       "      <th>trestbps</th>\n",
       "      <td>43.085733</td>\n",
       "      <td>-0.636863</td>\n",
       "      <td>0.688565</td>\n",
       "      <td>306.835410</td>\n",
       "      <td>115.657227</td>\n",
       "      <td>1.135165</td>\n",
       "      <td>-1.144685</td>\n",
       "      <td>-15.822822</td>\n",
       "      <td>0.506798</td>\n",
       "      <td>3.857971</td>\n",
       "      <td>-1.303344</td>\n",
       "      <td>1.887842</td>\n",
       "      <td>0.644446</td>\n",
       "      <td>-1.215584</td>\n",
       "    </tr>\n",
       "    <tr>\n",
       "      <th>chol</th>\n",
       "      <td>102.890625</td>\n",
       "      <td>-4.708984</td>\n",
       "      <td>-4.336914</td>\n",
       "      <td>115.657227</td>\n",
       "      <td>2661.787109</td>\n",
       "      <td>0.495117</td>\n",
       "      <td>-4.014648</td>\n",
       "      <td>-25.841797</td>\n",
       "      <td>1.643555</td>\n",
       "      <td>3.933301</td>\n",
       "      <td>-0.454102</td>\n",
       "      <td>3.949219</td>\n",
       "      <td>3.209961</td>\n",
       "      <td>-2.579102</td>\n",
       "    </tr>\n",
       "    <tr>\n",
       "      <th>fbs</th>\n",
       "      <td>0.392164</td>\n",
       "      <td>0.004465</td>\n",
       "      <td>0.029108</td>\n",
       "      <td>1.135165</td>\n",
       "      <td>0.495117</td>\n",
       "      <td>0.127111</td>\n",
       "      <td>-0.019583</td>\n",
       "      <td>-0.072719</td>\n",
       "      <td>0.008303</td>\n",
       "      <td>0.004549</td>\n",
       "      <td>-0.013634</td>\n",
       "      <td>0.050406</td>\n",
       "      <td>-0.009333</td>\n",
       "      <td>-0.007339</td>\n",
       "    </tr>\n",
       "    <tr>\n",
       "      <th>restecg</th>\n",
       "      <td>-0.635490</td>\n",
       "      <td>-0.013395</td>\n",
       "      <td>0.023687</td>\n",
       "      <td>-1.144685</td>\n",
       "      <td>-4.014648</td>\n",
       "      <td>-0.019583</td>\n",
       "      <td>0.278655</td>\n",
       "      <td>0.587909</td>\n",
       "      <td>-0.016373</td>\n",
       "      <td>-0.031085</td>\n",
       "      <td>0.028073</td>\n",
       "      <td>-0.042482</td>\n",
       "      <td>-0.006718</td>\n",
       "      <td>0.035496</td>\n",
       "    </tr>\n",
       "    <tr>\n",
       "      <th>thalach</th>\n",
       "      <td>-81.446089</td>\n",
       "      <td>-0.522838</td>\n",
       "      <td>7.268296</td>\n",
       "      <td>-15.822822</td>\n",
       "      <td>-25.841797</td>\n",
       "      <td>-0.072719</td>\n",
       "      <td>0.587909</td>\n",
       "      <td>529.263325</td>\n",
       "      <td>-4.136114</td>\n",
       "      <td>-9.456022</td>\n",
       "      <td>5.618078</td>\n",
       "      <td>-4.929917</td>\n",
       "      <td>-1.400290</td>\n",
       "      <td>4.865194</td>\n",
       "    </tr>\n",
       "    <tr>\n",
       "      <th>exang</th>\n",
       "      <td>0.378144</td>\n",
       "      <td>0.030288</td>\n",
       "      <td>-0.195451</td>\n",
       "      <td>0.506798</td>\n",
       "      <td>1.643555</td>\n",
       "      <td>0.008303</td>\n",
       "      <td>-0.016373</td>\n",
       "      <td>-4.136114</td>\n",
       "      <td>0.223514</td>\n",
       "      <td>0.172684</td>\n",
       "      <td>-0.078077</td>\n",
       "      <td>0.052558</td>\n",
       "      <td>0.057865</td>\n",
       "      <td>-0.103558</td>\n",
       "    </tr>\n",
       "    <tr>\n",
       "      <th>oldpeak</th>\n",
       "      <td>2.218825</td>\n",
       "      <td>0.045812</td>\n",
       "      <td>-0.211407</td>\n",
       "      <td>3.857971</td>\n",
       "      <td>3.933301</td>\n",
       "      <td>0.004549</td>\n",
       "      <td>-0.031085</td>\n",
       "      <td>-9.456022</td>\n",
       "      <td>0.172684</td>\n",
       "      <td>1.380750</td>\n",
       "      <td>-0.417527</td>\n",
       "      <td>0.268673</td>\n",
       "      <td>0.147810</td>\n",
       "      <td>-0.257632</td>\n",
       "    </tr>\n",
       "    <tr>\n",
       "      <th>slope</th>\n",
       "      <td>-0.947742</td>\n",
       "      <td>-0.007584</td>\n",
       "      <td>0.083727</td>\n",
       "      <td>-1.303344</td>\n",
       "      <td>-0.454102</td>\n",
       "      <td>-0.013634</td>\n",
       "      <td>0.028073</td>\n",
       "      <td>5.618078</td>\n",
       "      <td>-0.078077</td>\n",
       "      <td>-0.417527</td>\n",
       "      <td>0.381622</td>\n",
       "      <td>-0.046765</td>\n",
       "      <td>-0.036076</td>\n",
       "      <td>0.106736</td>\n",
       "    </tr>\n",
       "    <tr>\n",
       "      <th>ca</th>\n",
       "      <td>2.539458</td>\n",
       "      <td>0.053021</td>\n",
       "      <td>-0.187017</td>\n",
       "      <td>1.887842</td>\n",
       "      <td>3.949219</td>\n",
       "      <td>0.050406</td>\n",
       "      <td>-0.042482</td>\n",
       "      <td>-4.929917</td>\n",
       "      <td>0.052558</td>\n",
       "      <td>0.268673</td>\n",
       "      <td>-0.046765</td>\n",
       "      <td>1.062544</td>\n",
       "      <td>0.095335</td>\n",
       "      <td>-0.196954</td>\n",
       "    </tr>\n",
       "    <tr>\n",
       "      <th>thal</th>\n",
       "      <td>0.407093</td>\n",
       "      <td>0.056697</td>\n",
       "      <td>-0.104385</td>\n",
       "      <td>0.644446</td>\n",
       "      <td>3.209961</td>\n",
       "      <td>-0.009333</td>\n",
       "      <td>-0.006718</td>\n",
       "      <td>-1.400290</td>\n",
       "      <td>0.057865</td>\n",
       "      <td>0.147810</td>\n",
       "      <td>-0.036076</td>\n",
       "      <td>0.095335</td>\n",
       "      <td>0.385219</td>\n",
       "      <td>-0.104856</td>\n",
       "    </tr>\n",
       "    <tr>\n",
       "      <th>target</th>\n",
       "      <td>-1.040392</td>\n",
       "      <td>-0.064346</td>\n",
       "      <td>0.223903</td>\n",
       "      <td>-1.215584</td>\n",
       "      <td>-2.579102</td>\n",
       "      <td>-0.007339</td>\n",
       "      <td>0.035496</td>\n",
       "      <td>4.865194</td>\n",
       "      <td>-0.103558</td>\n",
       "      <td>-0.257632</td>\n",
       "      <td>0.106736</td>\n",
       "      <td>-0.196954</td>\n",
       "      <td>-0.104856</td>\n",
       "      <td>0.250071</td>\n",
       "    </tr>\n",
       "  </tbody>\n",
       "</table>\n",
       "</div>"
      ],
      "text/plain": [
       "                 age       sex        cp    trestbps         chol       fbs  \\\n",
       "age        82.306450 -0.431198 -0.672251   43.085733   102.890625  0.392164   \n",
       "sex        -0.431198  0.211944 -0.019491   -0.636863    -4.708984  0.004465   \n",
       "cp         -0.672251 -0.019491  1.060160    0.688565    -4.336914  0.029108   \n",
       "trestbps   43.085733 -0.636863  0.688565  306.835410   115.657227  1.135165   \n",
       "chol      102.890625 -4.708984 -4.336914  115.657227  2661.787109  0.495117   \n",
       "fbs         0.392164  0.004465  0.029108    1.135165     0.495117  0.127111   \n",
       "restecg    -0.635490 -0.013395  0.023687   -1.144685    -4.014648 -0.019583   \n",
       "thalach   -81.446089 -0.522838  7.268296  -15.822822   -25.841797 -0.072719   \n",
       "exang       0.378144  0.030288 -0.195451    0.506798     1.643555  0.008303   \n",
       "oldpeak     2.218825  0.045812 -0.211407    3.857971     3.933301  0.004549   \n",
       "slope      -0.947742 -0.007584  0.083727   -1.303344    -0.454102 -0.013634   \n",
       "ca          2.539458  0.053021 -0.187017    1.887842     3.949219  0.050406   \n",
       "thal        0.407093  0.056697 -0.104385    0.644446     3.209961 -0.009333   \n",
       "target     -1.040392 -0.064346  0.223903   -1.215584    -2.579102 -0.007339   \n",
       "\n",
       "           restecg     thalach     exang   oldpeak     slope        ca  \\\n",
       "age      -0.635490  -81.446089  0.378144  2.218825 -0.947742  2.539458   \n",
       "sex      -0.013395   -0.522838  0.030288  0.045812 -0.007584  0.053021   \n",
       "cp        0.023687    7.268296 -0.195451 -0.211407  0.083727 -0.187017   \n",
       "trestbps -1.144685  -15.822822  0.506798  3.857971 -1.303344  1.887842   \n",
       "chol     -4.014648  -25.841797  1.643555  3.933301 -0.454102  3.949219   \n",
       "fbs      -0.019583   -0.072719  0.008303  0.004549 -0.013634  0.050406   \n",
       "restecg   0.278655    0.587909 -0.016373 -0.031085  0.028073 -0.042482   \n",
       "thalach   0.587909  529.263325 -4.136114 -9.456022  5.618078 -4.929917   \n",
       "exang    -0.016373   -4.136114  0.223514  0.172684 -0.078077  0.052558   \n",
       "oldpeak  -0.031085   -9.456022  0.172684  1.380750 -0.417527  0.268673   \n",
       "slope     0.028073    5.618078 -0.078077 -0.417527  0.381622 -0.046765   \n",
       "ca       -0.042482   -4.929917  0.052558  0.268673 -0.046765  1.062544   \n",
       "thal     -0.006718   -1.400290  0.057865  0.147810 -0.036076  0.095335   \n",
       "target    0.035496    4.865194 -0.103558 -0.257632  0.106736 -0.196954   \n",
       "\n",
       "              thal    target  \n",
       "age       0.407093 -1.040392  \n",
       "sex       0.056697 -0.064346  \n",
       "cp       -0.104385  0.223903  \n",
       "trestbps  0.644446 -1.215584  \n",
       "chol      3.209961 -2.579102  \n",
       "fbs      -0.009333 -0.007339  \n",
       "restecg  -0.006718  0.035496  \n",
       "thalach  -1.400290  4.865194  \n",
       "exang     0.057865 -0.103558  \n",
       "oldpeak   0.147810 -0.257632  \n",
       "slope    -0.036076  0.106736  \n",
       "ca        0.095335 -0.196954  \n",
       "thal      0.385219 -0.104856  \n",
       "target   -0.104856  0.250071  "
      ]
     },
     "execution_count": 125,
     "metadata": {},
     "output_type": "execute_result"
    }
   ],
   "source": [
    "df.cov(numeric_only=True)"
   ]
  },
  {
   "cell_type": "markdown",
   "id": "c690d77f-3d1e-408a-9f1c-e09e84cf5d08",
   "metadata": {},
   "source": [
    "# step-22  Show histograms of all numeric attributes"
   ]
  },
  {
   "cell_type": "code",
   "execution_count": 135,
   "id": "6052404f-84b9-4a15-8938-02c5f65688ce",
   "metadata": {},
   "outputs": [
    {
     "data": {
      "image/png": "[encoded data removed]",
      "text/plain": [
       "<Figure size 1500x1000 with 16 Axes>"
      ]
     },
     "metadata": {},
     "output_type": "display_data"
    }
   ],
   "source": [
    "df.hist(figsize=(15, 10), bins=20)\n",
    "plt.suptitle(\"Histograms of All Features\")\n",
    "plt.show()"
   ]
  },
  {
   "cell_type": "markdown",
   "id": "58005f5f-9a98-4441-a902-d98c6e14d339",
   "metadata": {},
   "source": [
    " # step-23 How many rows and columns are there in the dataset?"
   ]
  },
  {
   "cell_type": "code",
   "execution_count": 138,
   "id": "5e79df29-5700-47cc-816f-89a25fb50709",
   "metadata": {},
   "outputs": [
    {
     "data": {
      "text/plain": [
       "(1025, 14)"
      ]
     },
     "execution_count": 138,
     "metadata": {},
     "output_type": "execute_result"
    }
   ],
   "source": [
    "df.shape\n"
   ]
  },
  {
   "cell_type": "markdown",
   "id": "e7a4ca82-4c08-4bad-8350-e1c48726fbd2",
   "metadata": {},
   "source": [
    " # step-24 What are the unique values in the target column?"
   ]
  },
  {
   "cell_type": "code",
   "execution_count": 141,
   "id": "750c7a30-4934-499e-b9a5-dee050224ecf",
   "metadata": {},
   "outputs": [
    {
     "data": {
      "text/plain": [
       "array([0, 1], dtype=int64)"
      ]
     },
     "execution_count": 141,
     "metadata": {},
     "output_type": "execute_result"
    }
   ],
   "source": [
    "df['target'].unique()"
   ]
  },
  {
   "cell_type": "markdown",
   "id": "643ce773-2adb-4d8b-94c8-f09eefa839dd",
   "metadata": {},
   "source": [
    "# step-25 Plot a bar chart of target values (0 or 1)"
   ]
  },
  {
   "cell_type": "code",
   "execution_count": 144,
   "id": "c10ed865-a099-4655-b387-cafc25a5f963",
   "metadata": {},
   "outputs": [
    {
     "data": {
      "image/png": "[encoded data removed]",
      "text/plain": [
       "<Figure size 640x480 with 1 Axes>"
      ]
     },
     "metadata": {},
     "output_type": "display_data"
    }
   ],
   "source": [
    "import matplotlib.pyplot as plt\n",
    "\n",
    "df['target'].value_counts().plot(kind='bar', title='Heart Disease Distribution')\n",
    "plt.xlabel('Target')\n",
    "plt.ylabel('Count')\n",
    "plt.show()\n"
   ]
  }
 ],
 "metadata": {
  "kernelspec": {
   "display_name": "Python 3 (ipykernel)",
   "language": "python",
   "name": "python3"
  },
  "language_info": {
   "codemirror_mode": {
    "name": "ipython",
    "version": 3
   },
   "file_extension": ".py",
   "mimetype": "text/x-python",
   "name": "python",
   "nbconvert_exporter": "python",
   "pygments_lexer": "ipython3",
   "version": "3.12.7"
  }
 },
 "nbformat": 4,
 "nbformat_minor": 5
}
