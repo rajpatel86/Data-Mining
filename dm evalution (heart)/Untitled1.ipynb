{
 "cells": [
  {
   "cell_type": "markdown",
   "id": "b3446f7e-ec70-498f-b340-a373acfafff9",
   "metadata": {},
   "source": [
    "<h1>1. Import Libraries</h1>"
   ]
  },
  {
   "cell_type": "code",
   "execution_count": 79,
   "id": "6d896871-d91f-45f0-922d-9a7fde9114a9",
   "metadata": {},
   "outputs": [],
   "source": [
    "import pandas as pd\n",
    "import numpy as np\n",
    "import matplotlib.pyplot as plt"
   ]
  },
  {
   "cell_type": "markdown",
   "id": "9e4210d0-66c7-4d3a-942f-898bfafc4708",
   "metadata": {},
   "source": [
    "<h1>2. Read Dataset</h1>"
   ]
  },
  {
   "cell_type": "code",
   "execution_count": 33,
   "id": "9092feef-9430-4f7e-baf8-a30b33ae01ab",
   "metadata": {},
   "outputs": [
    {
     "data": {
      "text/html": [
       "<div>\n",
       "<style scoped>\n",
       "    .dataframe tbody tr th:only-of-type {\n",
       "        vertical-align: middle;\n",
       "    }\n",
       "\n",
       "    .dataframe tbody tr th {\n",
       "        vertical-align: top;\n",
       "    }\n",
       "\n",
       "    .dataframe thead th {\n",
       "        text-align: right;\n",
       "    }\n",
       "</style>\n",
       "<table border=\"1\" class=\"dataframe\">\n",
       "  <thead>\n",
       "    <tr style=\"text-align: right;\">\n",
       "      <th></th>\n",
       "      <th>age</th>\n",
       "      <th>sex</th>\n",
       "      <th>cp</th>\n",
       "      <th>trestbps</th>\n",
       "      <th>chol</th>\n",
       "      <th>fbs</th>\n",
       "      <th>restecg</th>\n",
       "      <th>thalach</th>\n",
       "      <th>exang</th>\n",
       "      <th>oldpeak</th>\n",
       "      <th>slope</th>\n",
       "      <th>ca</th>\n",
       "      <th>thal</th>\n",
       "      <th>target</th>\n",
       "    </tr>\n",
       "  </thead>\n",
       "  <tbody>\n",
       "    <tr>\n",
       "      <th>0</th>\n",
       "      <td>52</td>\n",
       "      <td>1</td>\n",
       "      <td>0</td>\n",
       "      <td>125</td>\n",
       "      <td>212</td>\n",
       "      <td>0</td>\n",
       "      <td>1</td>\n",
       "      <td>168</td>\n",
       "      <td>0</td>\n",
       "      <td>1.0</td>\n",
       "      <td>2</td>\n",
       "      <td>2</td>\n",
       "      <td>3</td>\n",
       "      <td>0</td>\n",
       "    </tr>\n",
       "    <tr>\n",
       "      <th>1</th>\n",
       "      <td>53</td>\n",
       "      <td>1</td>\n",
       "      <td>0</td>\n",
       "      <td>140</td>\n",
       "      <td>203</td>\n",
       "      <td>1</td>\n",
       "      <td>0</td>\n",
       "      <td>155</td>\n",
       "      <td>1</td>\n",
       "      <td>3.1</td>\n",
       "      <td>0</td>\n",
       "      <td>0</td>\n",
       "      <td>3</td>\n",
       "      <td>0</td>\n",
       "    </tr>\n",
       "    <tr>\n",
       "      <th>2</th>\n",
       "      <td>70</td>\n",
       "      <td>1</td>\n",
       "      <td>0</td>\n",
       "      <td>145</td>\n",
       "      <td>174</td>\n",
       "      <td>0</td>\n",
       "      <td>1</td>\n",
       "      <td>125</td>\n",
       "      <td>1</td>\n",
       "      <td>2.6</td>\n",
       "      <td>0</td>\n",
       "      <td>0</td>\n",
       "      <td>3</td>\n",
       "      <td>0</td>\n",
       "    </tr>\n",
       "    <tr>\n",
       "      <th>3</th>\n",
       "      <td>61</td>\n",
       "      <td>1</td>\n",
       "      <td>0</td>\n",
       "      <td>148</td>\n",
       "      <td>203</td>\n",
       "      <td>0</td>\n",
       "      <td>1</td>\n",
       "      <td>161</td>\n",
       "      <td>0</td>\n",
       "      <td>0.0</td>\n",
       "      <td>2</td>\n",
       "      <td>1</td>\n",
       "      <td>3</td>\n",
       "      <td>0</td>\n",
       "    </tr>\n",
       "    <tr>\n",
       "      <th>4</th>\n",
       "      <td>62</td>\n",
       "      <td>0</td>\n",
       "      <td>0</td>\n",
       "      <td>138</td>\n",
       "      <td>294</td>\n",
       "      <td>1</td>\n",
       "      <td>1</td>\n",
       "      <td>106</td>\n",
       "      <td>0</td>\n",
       "      <td>1.9</td>\n",
       "      <td>1</td>\n",
       "      <td>3</td>\n",
       "      <td>2</td>\n",
       "      <td>0</td>\n",
       "    </tr>\n",
       "    <tr>\n",
       "      <th>...</th>\n",
       "      <td>...</td>\n",
       "      <td>...</td>\n",
       "      <td>...</td>\n",
       "      <td>...</td>\n",
       "      <td>...</td>\n",
       "      <td>...</td>\n",
       "      <td>...</td>\n",
       "      <td>...</td>\n",
       "      <td>...</td>\n",
       "      <td>...</td>\n",
       "      <td>...</td>\n",
       "      <td>...</td>\n",
       "      <td>...</td>\n",
       "      <td>...</td>\n",
       "    </tr>\n",
       "    <tr>\n",
       "      <th>1020</th>\n",
       "      <td>59</td>\n",
       "      <td>1</td>\n",
       "      <td>1</td>\n",
       "      <td>140</td>\n",
       "      <td>221</td>\n",
       "      <td>0</td>\n",
       "      <td>1</td>\n",
       "      <td>164</td>\n",
       "      <td>1</td>\n",
       "      <td>0.0</td>\n",
       "      <td>2</td>\n",
       "      <td>0</td>\n",
       "      <td>2</td>\n",
       "      <td>1</td>\n",
       "    </tr>\n",
       "    <tr>\n",
       "      <th>1021</th>\n",
       "      <td>60</td>\n",
       "      <td>1</td>\n",
       "      <td>0</td>\n",
       "      <td>125</td>\n",
       "      <td>258</td>\n",
       "      <td>0</td>\n",
       "      <td>0</td>\n",
       "      <td>141</td>\n",
       "      <td>1</td>\n",
       "      <td>2.8</td>\n",
       "      <td>1</td>\n",
       "      <td>1</td>\n",
       "      <td>3</td>\n",
       "      <td>0</td>\n",
       "    </tr>\n",
       "    <tr>\n",
       "      <th>1022</th>\n",
       "      <td>47</td>\n",
       "      <td>1</td>\n",
       "      <td>0</td>\n",
       "      <td>110</td>\n",
       "      <td>275</td>\n",
       "      <td>0</td>\n",
       "      <td>0</td>\n",
       "      <td>118</td>\n",
       "      <td>1</td>\n",
       "      <td>1.0</td>\n",
       "      <td>1</td>\n",
       "      <td>1</td>\n",
       "      <td>2</td>\n",
       "      <td>0</td>\n",
       "    </tr>\n",
       "    <tr>\n",
       "      <th>1023</th>\n",
       "      <td>50</td>\n",
       "      <td>0</td>\n",
       "      <td>0</td>\n",
       "      <td>110</td>\n",
       "      <td>254</td>\n",
       "      <td>0</td>\n",
       "      <td>0</td>\n",
       "      <td>159</td>\n",
       "      <td>0</td>\n",
       "      <td>0.0</td>\n",
       "      <td>2</td>\n",
       "      <td>0</td>\n",
       "      <td>2</td>\n",
       "      <td>1</td>\n",
       "    </tr>\n",
       "    <tr>\n",
       "      <th>1024</th>\n",
       "      <td>54</td>\n",
       "      <td>1</td>\n",
       "      <td>0</td>\n",
       "      <td>120</td>\n",
       "      <td>188</td>\n",
       "      <td>0</td>\n",
       "      <td>1</td>\n",
       "      <td>113</td>\n",
       "      <td>0</td>\n",
       "      <td>1.4</td>\n",
       "      <td>1</td>\n",
       "      <td>1</td>\n",
       "      <td>3</td>\n",
       "      <td>0</td>\n",
       "    </tr>\n",
       "  </tbody>\n",
       "</table>\n",
       "<p>1025 rows × 14 columns</p>\n",
       "</div>"
      ],
      "text/plain": [
       "      age  sex  cp  trestbps  chol  fbs  restecg  thalach  exang  oldpeak  \\\n",
       "0      52    1   0       125   212    0        1      168      0      1.0   \n",
       "1      53    1   0       140   203    1        0      155      1      3.1   \n",
       "2      70    1   0       145   174    0        1      125      1      2.6   \n",
       "3      61    1   0       148   203    0        1      161      0      0.0   \n",
       "4      62    0   0       138   294    1        1      106      0      1.9   \n",
       "...   ...  ...  ..       ...   ...  ...      ...      ...    ...      ...   \n",
       "1020   59    1   1       140   221    0        1      164      1      0.0   \n",
       "1021   60    1   0       125   258    0        0      141      1      2.8   \n",
       "1022   47    1   0       110   275    0        0      118      1      1.0   \n",
       "1023   50    0   0       110   254    0        0      159      0      0.0   \n",
       "1024   54    1   0       120   188    0        1      113      0      1.4   \n",
       "\n",
       "      slope  ca  thal  target  \n",
       "0         2   2     3       0  \n",
       "1         0   0     3       0  \n",
       "2         0   0     3       0  \n",
       "3         2   1     3       0  \n",
       "4         1   3     2       0  \n",
       "...     ...  ..   ...     ...  \n",
       "1020      2   0     2       1  \n",
       "1021      1   1     3       0  \n",
       "1022      1   1     2       0  \n",
       "1023      2   0     2       1  \n",
       "1024      1   1     3       0  \n",
       "\n",
       "[1025 rows x 14 columns]"
      ]
     },
     "execution_count": 33,
     "metadata": {},
     "output_type": "execute_result"
    }
   ],
   "source": [
    "df=pd.read_csv('heart.csv')\n",
    "df"
   ]
  },
  {
   "cell_type": "markdown",
   "id": "6fb8ca20-0db8-447c-9362-aee6241aac8d",
   "metadata": {},
   "source": [
    "<h1>3. Column Name</h1>"
   ]
  },
  {
   "cell_type": "code",
   "execution_count": 35,
   "id": "dfeea4a5-2e59-4b8a-8649-8d4c90d69185",
   "metadata": {},
   "outputs": [
    {
     "data": {
      "text/plain": [
       "Index(['age', 'sex', 'cp', 'trestbps', 'chol', 'fbs', 'restecg', 'thalach',\n",
       "       'exang', 'oldpeak', 'slope', 'ca', 'thal', 'target'],\n",
       "      dtype='object')"
      ]
     },
     "execution_count": 35,
     "metadata": {},
     "output_type": "execute_result"
    }
   ],
   "source": [
    "df.columns"
   ]
  },
  {
   "cell_type": "markdown",
   "id": "720685bf-33a9-4030-9d6b-905e0bef257f",
   "metadata": {},
   "source": [
    "<h1>4. Datatype of each column</h1>"
   ]
  },
  {
   "cell_type": "code",
   "execution_count": 40,
   "id": "8f0aa21e-490c-484a-9b4c-a54b48dac95e",
   "metadata": {},
   "outputs": [
    {
     "data": {
      "text/plain": [
       "age           int64\n",
       "sex           int64\n",
       "cp            int64\n",
       "trestbps      int64\n",
       "chol          int64\n",
       "fbs           int64\n",
       "restecg       int64\n",
       "thalach       int64\n",
       "exang         int64\n",
       "oldpeak     float64\n",
       "slope         int64\n",
       "ca            int64\n",
       "thal          int64\n",
       "target        int64\n",
       "dtype: object"
      ]
     },
     "execution_count": 40,
     "metadata": {},
     "output_type": "execute_result"
    }
   ],
   "source": [
    "df.dtypes"
   ]
  },
  {
   "cell_type": "markdown",
   "id": "01d1f0b3-905a-435f-b244-1a8be35506c5",
   "metadata": {},
   "source": [
    "<h1>5. Summary Information</h1>"
   ]
  },
  {
   "cell_type": "code",
   "execution_count": 42,
   "id": "82844042-67cf-4501-b79b-036c115ba7c1",
   "metadata": {},
   "outputs": [
    {
     "name": "stdout",
     "output_type": "stream",
     "text": [
      "<class 'pandas.core.frame.DataFrame'>\n",
      "RangeIndex: 1025 entries, 0 to 1024\n",
      "Data columns (total 14 columns):\n",
      " #   Column    Non-Null Count  Dtype  \n",
      "---  ------    --------------  -----  \n",
      " 0   age       1025 non-null   int64  \n",
      " 1   sex       1025 non-null   int64  \n",
      " 2   cp        1025 non-null   int64  \n",
      " 3   trestbps  1025 non-null   int64  \n",
      " 4   chol      1025 non-null   int64  \n",
      " 5   fbs       1025 non-null   int64  \n",
      " 6   restecg   1025 non-null   int64  \n",
      " 7   thalach   1025 non-null   int64  \n",
      " 8   exang     1025 non-null   int64  \n",
      " 9   oldpeak   1025 non-null   float64\n",
      " 10  slope     1025 non-null   int64  \n",
      " 11  ca        1025 non-null   int64  \n",
      " 12  thal      1025 non-null   int64  \n",
      " 13  target    1025 non-null   int64  \n",
      "dtypes: float64(1), int64(13)\n",
      "memory usage: 112.2 KB\n"
     ]
    }
   ],
   "source": [
    "df.info()"
   ]
  },
  {
   "cell_type": "markdown",
   "id": "737ece69-4d2b-47ef-829c-0c9cb239e628",
   "metadata": {},
   "source": [
    "<h1>6. Number of observation in dataset</h1>"
   ]
  },
  {
   "cell_type": "code",
   "execution_count": 44,
   "id": "812728e0-ceb8-49b9-ba9a-8c1245a96254",
   "metadata": {},
   "outputs": [
    {
     "data": {
      "text/plain": [
       "(1025, 14)"
      ]
     },
     "execution_count": 44,
     "metadata": {},
     "output_type": "execute_result"
    }
   ],
   "source": [
    "df.shape"
   ]
  },
  {
   "cell_type": "markdown",
   "id": "8f0a4689-ece5-47de-b4e7-822f1b970a6a",
   "metadata": {},
   "source": [
    "<h1>7. How is dataset indexed?</h1>"
   ]
  },
  {
   "cell_type": "code",
   "execution_count": 46,
   "id": "ffde1667-4492-43f4-b169-5eba4b654a7e",
   "metadata": {},
   "outputs": [
    {
     "data": {
      "text/plain": [
       "RangeIndex(start=0, stop=1025, step=1)"
      ]
     },
     "execution_count": 46,
     "metadata": {},
     "output_type": "execute_result"
    }
   ],
   "source": [
    "df.index"
   ]
  },
  {
   "cell_type": "markdown",
   "id": "63cf5f68-d6c4-4d03-9db9-54dfd39fb1f7",
   "metadata": {},
   "source": [
    "<h1>8. Count of target</h1>"
   ]
  },
  {
   "cell_type": "code",
   "execution_count": 49,
   "id": "95c87c1d-dae9-41fb-abde-4ca38d674084",
   "metadata": {},
   "outputs": [
    {
     "data": {
      "text/plain": [
       "target\n",
       "1    526\n",
       "0    499\n",
       "Name: count, dtype: int64"
      ]
     },
     "execution_count": 49,
     "metadata": {},
     "output_type": "execute_result"
    }
   ],
   "source": [
    " df['target'].value_counts()"
   ]
  },
  {
   "cell_type": "markdown",
   "id": "a5b6d8e1-220e-497f-aab0-c60254bff975",
   "metadata": {},
   "source": [
    "<h1>9. Plot histogram</h1>"
   ]
  },
  {
   "cell_type": "code",
   "execution_count": 51,
   "id": "3ef2da9a-4046-458c-9fdf-77f44a09b73f",
   "metadata": {},
   "outputs": [
    {
     "data": {
      "image/png": "[encoded data removed]",
      "text/plain": [
       "<Figure size 640x480 with 1 Axes>"
      ]
     },
     "metadata": {},
     "output_type": "display_data"
    }
   ],
   "source": [
    "df['age'].hist()\n",
    "plt.xlabel('Age')\n",
    "plt.ylabel('Count')\n",
    "plt.title('Age Distribution')\n",
    "plt.show()"
   ]
  },
  {
   "cell_type": "markdown",
   "id": "15d03852-d69d-401a-8596-707b682f8996",
   "metadata": {},
   "source": [
    "<h1>10. Boxplot</h1>"
   ]
  },
  {
   "cell_type": "code",
   "execution_count": 53,
   "id": "10ff8b67-174e-44d0-a3ba-e4cb64930db8",
   "metadata": {},
   "outputs": [
    {
     "data": {
      "image/png": "[encoded data removed]",
      "text/plain": [
       "<Figure size 640x480 with 1 Axes>"
      ]
     },
     "metadata": {},
     "output_type": "display_data"
    }
   ],
   "source": [
    "chol_target_0 = df[df['target'] == 0]['chol']\n",
    "chol_target_1 = df[df['target'] == 1]['chol']\n",
    "\n",
    "plt.boxplot([chol_target_0, chol_target_1], tick_labels=['No Disease', 'Disease'])\n",
    "plt.xlabel('Heart Disease')\n",
    "plt.ylabel('Cholesterol')\n",
    "plt.title('Cholesterol Levels by Heart Disease')\n",
    "plt.show()"
   ]
  },
  {
   "cell_type": "markdown",
   "id": "3b05c53c-a294-41ee-b099-9961a5cca863",
   "metadata": {},
   "source": [
    "<h1>11. Scatter plot</h1>"
   ]
  },
  {
   "cell_type": "code",
   "execution_count": 55,
   "id": "fb7a9ac3-955e-48f8-bcb6-980da64dc3a7",
   "metadata": {},
   "outputs": [
    {
     "data": {
      "image/png": "[encoded data removed]",
      "text/plain": [
       "<Figure size 640x480 with 1 Axes>"
      ]
     },
     "metadata": {},
     "output_type": "display_data"
    }
   ],
   "source": [
    "df.plot.scatter(x='age', y='thalach',title='Age vs Max Heart Rate')\n",
    "plt.show()"
   ]
  },
  {
   "cell_type": "markdown",
   "id": "021009ac-0715-43f6-8bb3-278304cb92a4",
   "metadata": {},
   "source": [
    "<h1>12. How many patients are above 50?</h1>"
   ]
  },
  {
   "cell_type": "code",
   "execution_count": 57,
   "id": "5c438e1d-62d6-4e81-8d01-1af22ae2f1c2",
   "metadata": {},
   "outputs": [
    {
     "data": {
      "text/plain": [
       "710"
      ]
     },
     "execution_count": 57,
     "metadata": {},
     "output_type": "execute_result"
    }
   ],
   "source": [
    "df[df['age'] > 50].shape[0]"
   ]
  },
  {
   "cell_type": "markdown",
   "id": "65f7ae44-51a9-462a-8d6b-1d9c06903944",
   "metadata": {},
   "source": [
    "<h1>13. Average cholestrol level of males</h1>"
   ]
  },
  {
   "cell_type": "code",
   "execution_count": 59,
   "id": "683cf123-8de2-44d7-9e25-0b2aa791ee26",
   "metadata": {},
   "outputs": [
    {
     "data": {
      "text/plain": [
       "239.23702664796633"
      ]
     },
     "execution_count": 59,
     "metadata": {},
     "output_type": "execute_result"
    }
   ],
   "source": [
    "df[df['sex'] == 1]['chol'].mean()"
   ]
  },
  {
   "cell_type": "markdown",
   "id": "e23d8710-7db6-4a59-9094-3cbcb4f6c408",
   "metadata": {},
   "source": [
    "<h1>14. How many patients have heart disease</h1>"
   ]
  },
  {
   "cell_type": "code",
   "execution_count": 61,
   "id": "22294252-fee6-4b79-883a-349d7ec99aa5",
   "metadata": {},
   "outputs": [
    {
     "data": {
      "text/plain": [
       "526"
      ]
     },
     "execution_count": 61,
     "metadata": {},
     "output_type": "execute_result"
    }
   ],
   "source": [
    "df[df['target'] == 1].shape[0]"
   ]
  },
  {
   "cell_type": "markdown",
   "id": "3ae1d19f-1b9e-427a-aabe-3138cfa77ec8",
   "metadata": {},
   "source": [
    "<h1>15. Count of each chest pain</h1>"
   ]
  },
  {
   "cell_type": "code",
   "execution_count": 63,
   "id": "76413240-d3d9-4754-bcb4-08b491a14701",
   "metadata": {},
   "outputs": [
    {
     "data": {
      "text/plain": [
       "cp\n",
       "0    497\n",
       "2    284\n",
       "1    167\n",
       "3     77\n",
       "Name: count, dtype: int64"
      ]
     },
     "execution_count": 63,
     "metadata": {},
     "output_type": "execute_result"
    }
   ],
   "source": [
    "df['cp'].value_counts()"
   ]
  },
  {
   "cell_type": "markdown",
   "id": "75df5de4-176f-4bfe-9412-8e16a29a1f10",
   "metadata": {},
   "source": [
    "<h1>16. How many patients have fbs>120 </h1>"
   ]
  },
  {
   "cell_type": "code",
   "execution_count": 65,
   "id": "a4ac1946-1f95-4223-847d-8b58e29dabf7",
   "metadata": {},
   "outputs": [
    {
     "data": {
      "text/plain": [
       "153"
      ]
     },
     "execution_count": 65,
     "metadata": {},
     "output_type": "execute_result"
    }
   ],
   "source": [
    "df[df['fbs'] == 1].shape[0]"
   ]
  },
  {
   "cell_type": "markdown",
   "id": "1f60352c-a49e-46d8-85fe-abe7e7af3ba9",
   "metadata": {},
   "source": [
    "<h1>17. How many male vs female patients have heart disease?</h1>"
   ]
  },
  {
   "cell_type": "code",
   "execution_count": 67,
   "id": "598a99c9-d33b-4075-920a-9b7524bb3f04",
   "metadata": {},
   "outputs": [
    {
     "data": {
      "text/plain": [
       "sex\n",
       "1    300\n",
       "0    226\n",
       "Name: count, dtype: int64"
      ]
     },
     "execution_count": 67,
     "metadata": {},
     "output_type": "execute_result"
    }
   ],
   "source": [
    "df[df['target'] == 1]['sex'].value_counts()"
   ]
  },
  {
   "cell_type": "markdown",
   "id": "6820e88a-f0e8-4fd8-adb5-d78e4801c500",
   "metadata": {},
   "source": [
    "<h1>18. Average age of patients with heart disease</h1>"
   ]
  },
  {
   "cell_type": "code",
   "execution_count": 69,
   "id": "468a2404-e404-4fa1-9611-9407035f751a",
   "metadata": {},
   "outputs": [
    {
     "data": {
      "text/plain": [
       "52.40874524714829"
      ]
     },
     "execution_count": 69,
     "metadata": {},
     "output_type": "execute_result"
    }
   ],
   "source": [
    "df[df['target'] == 1]['age'].mean()"
   ]
  },
  {
   "cell_type": "markdown",
   "id": "fe1c3d08-6abf-4dd7-8b58-e3727398bd8c",
   "metadata": {},
   "source": [
    "<h1>19. Average oldpeak for patients with or without heart disease</h1>"
   ]
  },
  {
   "cell_type": "code",
   "execution_count": 71,
   "id": "176fe2fc-3c18-478c-bcc4-7718f70d0044",
   "metadata": {},
   "outputs": [
    {
     "data": {
      "text/plain": [
       "target\n",
       "0    1.600200\n",
       "1    0.569962\n",
       "Name: oldpeak, dtype: float64"
      ]
     },
     "execution_count": 71,
     "metadata": {},
     "output_type": "execute_result"
    }
   ],
   "source": [
    "df.groupby('target')['oldpeak'].mean()"
   ]
  },
  {
   "cell_type": "markdown",
   "id": "94937f28-8d0a-48a6-9029-790791bdfe09",
   "metadata": {},
   "source": [
    "<h1>20. Find most common value for slope</h1>"
   ]
  },
  {
   "cell_type": "code",
   "execution_count": 73,
   "id": "39e1a5d9-38d0-4e0a-ab14-98f739183afc",
   "metadata": {},
   "outputs": [
    {
     "data": {
      "text/plain": [
       "1"
      ]
     },
     "execution_count": 73,
     "metadata": {},
     "output_type": "execute_result"
    }
   ],
   "source": [
    "df['slope'].mode()[0]"
   ]
  },
  {
   "cell_type": "markdown",
   "id": "dd2ced59-5d84-47bf-b67e-f57c78ccd78c",
   "metadata": {},
   "source": [
    "<h1>21. Thalach more than 150</h1>"
   ]
  },
  {
   "cell_type": "code",
   "execution_count": 75,
   "id": "4e12ea5f-756e-4d50-a6fa-90955f0eb4f1",
   "metadata": {},
   "outputs": [
    {
     "data": {
      "text/plain": [
       "542"
      ]
     },
     "execution_count": 75,
     "metadata": {},
     "output_type": "execute_result"
    }
   ],
   "source": [
    "df[df['thalach'] > 150].shape[0]"
   ]
  },
  {
   "cell_type": "markdown",
   "id": "1b5d936a-6ffd-4946-92d7-b5a993b92367",
   "metadata": {},
   "source": [
    "<h1>22. How many patients have restecg=0?</h1>"
   ]
  },
  {
   "cell_type": "code",
   "execution_count": 77,
   "id": "0c9328f3-4484-4503-a3fb-2dfc21ae00b3",
   "metadata": {},
   "outputs": [
    {
     "data": {
      "text/plain": [
       "497"
      ]
     },
     "execution_count": 77,
     "metadata": {},
     "output_type": "execute_result"
    }
   ],
   "source": [
    "df[df['restecg'] == 0].shape[0]"
   ]
  },
  {
   "cell_type": "markdown",
   "id": "d28966ac-34cc-4d5d-b2ea-bf68a9878d46",
   "metadata": {},
   "source": [
    "<h1>23. Number of males and females</h1>"
   ]
  },
  {
   "cell_type": "code",
   "execution_count": 91,
   "id": "9b2df046-5fa7-4728-bfe3-7a40b8b609f6",
   "metadata": {},
   "outputs": [
    {
     "data": {
      "text/plain": [
       "sex\n",
       "1    713\n",
       "0    312\n",
       "Name: count, dtype: int64"
      ]
     },
     "execution_count": 91,
     "metadata": {},
     "output_type": "execute_result"
    }
   ],
   "source": [
    "df['sex'].value_counts()"
   ]
  },
  {
   "cell_type": "markdown",
   "id": "ab620d1a-42d2-490f-8f9b-4815cbc64945",
   "metadata": {},
   "source": [
    "<h1>24. How many unique values are in thalach?</h1>"
   ]
  },
  {
   "cell_type": "code",
   "execution_count": 89,
   "id": "fdfe463d-a683-4139-9fa6-7baf98960242",
   "metadata": {},
   "outputs": [
    {
     "data": {
      "text/plain": [
       "4"
      ]
     },
     "execution_count": 89,
     "metadata": {},
     "output_type": "execute_result"
    }
   ],
   "source": [
    "df['thal'].nunique()"
   ]
  },
  {
   "cell_type": "markdown",
   "id": "69106e30-a46b-4efb-9a80-bdcc80d5fe7b",
   "metadata": {},
   "source": [
    "<h1>25. What is minimum and maximum bp?</h1>"
   ]
  },
  {
   "cell_type": "code",
   "execution_count": 87,
   "id": "41474aab-c1b5-4311-8b98-8c010017345a",
   "metadata": {},
   "outputs": [
    {
     "data": {
      "text/plain": [
       "(94, 200)"
      ]
     },
     "execution_count": 87,
     "metadata": {},
     "output_type": "execute_result"
    }
   ],
   "source": [
    "df['trestbps'].min(), df['trestbps'].max()"
   ]
  }
 ],
 "metadata": {
  "kernelspec": {
   "display_name": "Python 3 (ipykernel)",
   "language": "python",
   "name": "python3"
  },
  "language_info": {
   "codemirror_mode": {
    "name": "ipython",
    "version": 3
   },
   "file_extension": ".py",
   "mimetype": "text/x-python",
   "name": "python",
   "nbconvert_exporter": "python",
   "pygments_lexer": "ipython3",
   "version": "3.12.7"
  }
 },
 "nbformat": 4,
 "nbformat_minor": 5
}
